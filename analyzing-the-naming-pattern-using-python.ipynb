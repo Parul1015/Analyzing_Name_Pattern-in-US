{
 "cells": [
  {
   "cell_type": "markdown",
   "id": "saved-colorado",
   "metadata": {
    "papermill": {
     "duration": 0.016436,
     "end_time": "2021-05-19T07:22:36.083292",
     "exception": false,
     "start_time": "2021-05-19T07:22:36.066856",
     "status": "completed"
    },
    "tags": []
   },
   "source": [
    "# Analyzing the Naming Pattern Using Python"
   ]
  },
  {
   "cell_type": "markdown",
   "id": "accessory-gateway",
   "metadata": {
    "papermill": {
     "duration": 0.015342,
     "end_time": "2021-05-19T07:22:36.114500",
     "exception": false,
     "start_time": "2021-05-19T07:22:36.099158",
     "status": "completed"
    },
    "tags": []
   },
   "source": [
    "In this Python project, I have worked with the United States Social Security Administration (SSA) which has made data on the frequency of baby names from 1880 to 2019 available. The project requires analyzing the data considering different methods. I have visualized the most frequent names, determine the naming trends and come up with the most popular names for a certain year."
   ]
  },
  {
   "cell_type": "markdown",
   "id": "manual-arcade",
   "metadata": {
    "papermill": {
     "duration": 0.015171,
     "end_time": "2021-05-19T07:22:36.145824",
     "exception": false,
     "start_time": "2021-05-19T07:22:36.130653",
     "status": "completed"
    },
    "tags": []
   },
   "source": [
    "Let's start..."
   ]
  },
  {
   "cell_type": "markdown",
   "id": "seven-comment",
   "metadata": {
    "papermill": {
     "duration": 0.015386,
     "end_time": "2021-05-19T07:22:36.176777",
     "exception": false,
     "start_time": "2021-05-19T07:22:36.161391",
     "status": "completed"
    },
    "tags": []
   },
   "source": [
    "Import libraries"
   ]
  },
  {
   "cell_type": "code",
   "execution_count": 1,
   "id": "dated-alexander",
   "metadata": {
    "execution": {
     "iopub.execute_input": "2021-05-19T07:22:36.220718Z",
     "iopub.status.busy": "2021-05-19T07:22:36.219956Z",
     "iopub.status.idle": "2021-05-19T07:22:37.568399Z",
     "shell.execute_reply": "2021-05-19T07:22:37.567224Z"
    },
    "papermill": {
     "duration": 1.376164,
     "end_time": "2021-05-19T07:22:37.568603",
     "exception": false,
     "start_time": "2021-05-19T07:22:36.192439",
     "status": "completed"
    },
    "tags": []
   },
   "outputs": [
    {
     "name": "stdout",
     "output_type": "stream",
     "text": [
      "Populating the interactive namespace from numpy and matplotlib\n"
     ]
    }
   ],
   "source": [
    "%pylab inline\n",
    "import pandas as pd\n",
    "import matplotlib.pyplot as plt\n",
    "import plotly.express as px\n"
   ]
  },
  {
   "cell_type": "markdown",
   "id": "optimum-inspector",
   "metadata": {
    "papermill": {
     "duration": 0.015713,
     "end_time": "2021-05-19T07:22:37.601261",
     "exception": false,
     "start_time": "2021-05-19T07:22:37.585548",
     "status": "completed"
    },
    "tags": []
   },
   "source": [
    "Popular baby names data provided by Social Security Administration (SSA) of United States.\n",
    "Download dataset from here:https://www.ssa.gov/oact/babynames/limits.html"
   ]
  },
  {
   "cell_type": "markdown",
   "id": "searching-south",
   "metadata": {
    "papermill": {
     "duration": 0.015953,
     "end_time": "2021-05-19T07:22:37.633285",
     "exception": false,
     "start_time": "2021-05-19T07:22:37.617332",
     "status": "completed"
    },
    "tags": []
   },
   "source": [
    "loading dataset"
   ]
  },
  {
   "cell_type": "code",
   "execution_count": 2,
   "id": "russian-nitrogen",
   "metadata": {
    "execution": {
     "iopub.execute_input": "2021-05-19T07:22:37.670581Z",
     "iopub.status.busy": "2021-05-19T07:22:37.669933Z",
     "iopub.status.idle": "2021-05-19T07:22:37.694856Z",
     "shell.execute_reply": "2021-05-19T07:22:37.694293Z"
    },
    "papermill": {
     "duration": 0.045658,
     "end_time": "2021-05-19T07:22:37.695006",
     "exception": false,
     "start_time": "2021-05-19T07:22:37.649348",
     "status": "completed"
    },
    "tags": []
   },
   "outputs": [],
   "source": [
    "b_name=pd.read_csv('../input/popular-name/names/yob1880.txt',names=['name','sex','birth'])"
   ]
  },
  {
   "cell_type": "markdown",
   "id": "handed-episode",
   "metadata": {
    "papermill": {
     "duration": 0.015827,
     "end_time": "2021-05-19T07:22:37.727329",
     "exception": false,
     "start_time": "2021-05-19T07:22:37.711502",
     "status": "completed"
    },
    "tags": []
   },
   "source": [
    "Print first 5 rows"
   ]
  },
  {
   "cell_type": "code",
   "execution_count": 3,
   "id": "damaged-chocolate",
   "metadata": {
    "execution": {
     "iopub.execute_input": "2021-05-19T07:22:37.762705Z",
     "iopub.status.busy": "2021-05-19T07:22:37.762077Z",
     "iopub.status.idle": "2021-05-19T07:22:37.787223Z",
     "shell.execute_reply": "2021-05-19T07:22:37.786741Z"
    },
    "papermill": {
     "duration": 0.043762,
     "end_time": "2021-05-19T07:22:37.787372",
     "exception": false,
     "start_time": "2021-05-19T07:22:37.743610",
     "status": "completed"
    },
    "tags": []
   },
   "outputs": [
    {
     "data": {
      "text/html": [
       "<div>\n",
       "<style scoped>\n",
       "    .dataframe tbody tr th:only-of-type {\n",
       "        vertical-align: middle;\n",
       "    }\n",
       "\n",
       "    .dataframe tbody tr th {\n",
       "        vertical-align: top;\n",
       "    }\n",
       "\n",
       "    .dataframe thead th {\n",
       "        text-align: right;\n",
       "    }\n",
       "</style>\n",
       "<table border=\"1\" class=\"dataframe\">\n",
       "  <thead>\n",
       "    <tr style=\"text-align: right;\">\n",
       "      <th></th>\n",
       "      <th>name</th>\n",
       "      <th>sex</th>\n",
       "      <th>birth</th>\n",
       "    </tr>\n",
       "  </thead>\n",
       "  <tbody>\n",
       "    <tr>\n",
       "      <th>0</th>\n",
       "      <td>Mary</td>\n",
       "      <td>F</td>\n",
       "      <td>7065</td>\n",
       "    </tr>\n",
       "    <tr>\n",
       "      <th>1</th>\n",
       "      <td>Anna</td>\n",
       "      <td>F</td>\n",
       "      <td>2604</td>\n",
       "    </tr>\n",
       "    <tr>\n",
       "      <th>2</th>\n",
       "      <td>Emma</td>\n",
       "      <td>F</td>\n",
       "      <td>2003</td>\n",
       "    </tr>\n",
       "    <tr>\n",
       "      <th>3</th>\n",
       "      <td>Elizabeth</td>\n",
       "      <td>F</td>\n",
       "      <td>1939</td>\n",
       "    </tr>\n",
       "    <tr>\n",
       "      <th>4</th>\n",
       "      <td>Minnie</td>\n",
       "      <td>F</td>\n",
       "      <td>1746</td>\n",
       "    </tr>\n",
       "  </tbody>\n",
       "</table>\n",
       "</div>"
      ],
      "text/plain": [
       "        name sex  birth\n",
       "0       Mary   F   7065\n",
       "1       Anna   F   2604\n",
       "2       Emma   F   2003\n",
       "3  Elizabeth   F   1939\n",
       "4     Minnie   F   1746"
      ]
     },
     "execution_count": 3,
     "metadata": {},
     "output_type": "execute_result"
    }
   ],
   "source": [
    "b_name.head()"
   ]
  },
  {
   "cell_type": "markdown",
   "id": "obvious-reason",
   "metadata": {
    "papermill": {
     "duration": 0.016416,
     "end_time": "2021-05-19T07:22:37.820636",
     "exception": false,
     "start_time": "2021-05-19T07:22:37.804220",
     "status": "completed"
    },
    "tags": []
   },
   "source": [
    "Print total male & female birth in year 1880"
   ]
  },
  {
   "cell_type": "code",
   "execution_count": 4,
   "id": "independent-philadelphia",
   "metadata": {
    "execution": {
     "iopub.execute_input": "2021-05-19T07:22:37.865069Z",
     "iopub.status.busy": "2021-05-19T07:22:37.864423Z",
     "iopub.status.idle": "2021-05-19T07:22:37.869925Z",
     "shell.execute_reply": "2021-05-19T07:22:37.870400Z"
    },
    "papermill": {
     "duration": 0.033132,
     "end_time": "2021-05-19T07:22:37.870585",
     "exception": false,
     "start_time": "2021-05-19T07:22:37.837453",
     "status": "completed"
    },
    "tags": []
   },
   "outputs": [
    {
     "data": {
      "text/plain": [
       "sex\n",
       "F     90994\n",
       "M    110490\n",
       "Name: birth, dtype: int64"
      ]
     },
     "execution_count": 4,
     "metadata": {},
     "output_type": "execute_result"
    }
   ],
   "source": [
    "b_name.groupby('sex').birth.sum()"
   ]
  },
  {
   "cell_type": "markdown",
   "id": "conscious-beads",
   "metadata": {
    "papermill": {
     "duration": 0.016997,
     "end_time": "2021-05-19T07:22:37.904841",
     "exception": false,
     "start_time": "2021-05-19T07:22:37.887844",
     "status": "completed"
    },
    "tags": []
   },
   "source": [
    "concatenate dataset "
   ]
  },
  {
   "cell_type": "code",
   "execution_count": 5,
   "id": "tutorial-second",
   "metadata": {
    "execution": {
     "iopub.execute_input": "2021-05-19T07:22:37.950698Z",
     "iopub.status.busy": "2021-05-19T07:22:37.950021Z",
     "iopub.status.idle": "2021-05-19T07:22:40.473251Z",
     "shell.execute_reply": "2021-05-19T07:22:40.473746Z"
    },
    "papermill": {
     "duration": 2.549652,
     "end_time": "2021-05-19T07:22:40.473920",
     "exception": false,
     "start_time": "2021-05-19T07:22:37.924268",
     "status": "completed"
    },
    "tags": []
   },
   "outputs": [
    {
     "data": {
      "text/html": [
       "<div>\n",
       "<style scoped>\n",
       "    .dataframe tbody tr th:only-of-type {\n",
       "        vertical-align: middle;\n",
       "    }\n",
       "\n",
       "    .dataframe tbody tr th {\n",
       "        vertical-align: top;\n",
       "    }\n",
       "\n",
       "    .dataframe thead th {\n",
       "        text-align: right;\n",
       "    }\n",
       "</style>\n",
       "<table border=\"1\" class=\"dataframe\">\n",
       "  <thead>\n",
       "    <tr style=\"text-align: right;\">\n",
       "      <th></th>\n",
       "      <th>name</th>\n",
       "      <th>sex</th>\n",
       "      <th>birth</th>\n",
       "      <th>year</th>\n",
       "    </tr>\n",
       "  </thead>\n",
       "  <tbody>\n",
       "    <tr>\n",
       "      <th>0</th>\n",
       "      <td>Mary</td>\n",
       "      <td>F</td>\n",
       "      <td>7065</td>\n",
       "      <td>1880</td>\n",
       "    </tr>\n",
       "    <tr>\n",
       "      <th>1</th>\n",
       "      <td>Anna</td>\n",
       "      <td>F</td>\n",
       "      <td>2604</td>\n",
       "      <td>1880</td>\n",
       "    </tr>\n",
       "    <tr>\n",
       "      <th>2</th>\n",
       "      <td>Emma</td>\n",
       "      <td>F</td>\n",
       "      <td>2003</td>\n",
       "      <td>1880</td>\n",
       "    </tr>\n",
       "    <tr>\n",
       "      <th>3</th>\n",
       "      <td>Elizabeth</td>\n",
       "      <td>F</td>\n",
       "      <td>1939</td>\n",
       "      <td>1880</td>\n",
       "    </tr>\n",
       "    <tr>\n",
       "      <th>4</th>\n",
       "      <td>Minnie</td>\n",
       "      <td>F</td>\n",
       "      <td>1746</td>\n",
       "      <td>1880</td>\n",
       "    </tr>\n",
       "    <tr>\n",
       "      <th>...</th>\n",
       "      <td>...</td>\n",
       "      <td>...</td>\n",
       "      <td>...</td>\n",
       "      <td>...</td>\n",
       "    </tr>\n",
       "    <tr>\n",
       "      <th>1957442</th>\n",
       "      <td>Zylas</td>\n",
       "      <td>M</td>\n",
       "      <td>5</td>\n",
       "      <td>2018</td>\n",
       "    </tr>\n",
       "    <tr>\n",
       "      <th>1957443</th>\n",
       "      <td>Zyran</td>\n",
       "      <td>M</td>\n",
       "      <td>5</td>\n",
       "      <td>2018</td>\n",
       "    </tr>\n",
       "    <tr>\n",
       "      <th>1957444</th>\n",
       "      <td>Zyrie</td>\n",
       "      <td>M</td>\n",
       "      <td>5</td>\n",
       "      <td>2018</td>\n",
       "    </tr>\n",
       "    <tr>\n",
       "      <th>1957445</th>\n",
       "      <td>Zyron</td>\n",
       "      <td>M</td>\n",
       "      <td>5</td>\n",
       "      <td>2018</td>\n",
       "    </tr>\n",
       "    <tr>\n",
       "      <th>1957446</th>\n",
       "      <td>Zzyzx</td>\n",
       "      <td>M</td>\n",
       "      <td>5</td>\n",
       "      <td>2018</td>\n",
       "    </tr>\n",
       "  </tbody>\n",
       "</table>\n",
       "<p>1957447 rows × 4 columns</p>\n",
       "</div>"
      ],
      "text/plain": [
       "              name sex  birth  year\n",
       "0             Mary   F   7065  1880\n",
       "1             Anna   F   2604  1880\n",
       "2             Emma   F   2003  1880\n",
       "3        Elizabeth   F   1939  1880\n",
       "4           Minnie   F   1746  1880\n",
       "...            ...  ..    ...   ...\n",
       "1957442      Zylas   M      5  2018\n",
       "1957443      Zyran   M      5  2018\n",
       "1957444      Zyrie   M      5  2018\n",
       "1957445      Zyron   M      5  2018\n",
       "1957446      Zzyzx   M      5  2018\n",
       "\n",
       "[1957447 rows x 4 columns]"
      ]
     },
     "execution_count": 5,
     "metadata": {},
     "output_type": "execute_result"
    }
   ],
   "source": [
    "years=range(1880,2019)\n",
    "arr=[]\n",
    "columns=['name','sex','birth']\n",
    "for year in years:\n",
    "    path='../input/popular-name/names/yob%d.txt' % year\n",
    "    frame=pd.read_csv(path,names=columns)\n",
    "    \n",
    "    frame['year']=year\n",
    "    arr.append(frame)\n",
    "\n",
    "name=pd.concat(arr,ignore_index=True)\n",
    "name"
   ]
  },
  {
   "cell_type": "markdown",
   "id": "fresh-alarm",
   "metadata": {
    "papermill": {
     "duration": 0.017511,
     "end_time": "2021-05-19T07:22:40.509768",
     "exception": false,
     "start_time": "2021-05-19T07:22:40.492257",
     "status": "completed"
    },
    "tags": []
   },
   "source": [
    "Print total birth of male & feamle in each year"
   ]
  },
  {
   "cell_type": "code",
   "execution_count": 6,
   "id": "sealed-airport",
   "metadata": {
    "execution": {
     "iopub.execute_input": "2021-05-19T07:22:40.595393Z",
     "iopub.status.busy": "2021-05-19T07:22:40.565290Z",
     "iopub.status.idle": "2021-05-19T07:22:40.887598Z",
     "shell.execute_reply": "2021-05-19T07:22:40.886272Z"
    },
    "papermill": {
     "duration": 0.360025,
     "end_time": "2021-05-19T07:22:40.887764",
     "exception": false,
     "start_time": "2021-05-19T07:22:40.527739",
     "status": "completed"
    },
    "tags": []
   },
   "outputs": [],
   "source": [
    "total_birth=name.pivot_table('birth',index='year',columns='sex',aggfunc=sum)"
   ]
  },
  {
   "cell_type": "code",
   "execution_count": 7,
   "id": "earned-adult",
   "metadata": {
    "execution": {
     "iopub.execute_input": "2021-05-19T07:22:40.933022Z",
     "iopub.status.busy": "2021-05-19T07:22:40.932302Z",
     "iopub.status.idle": "2021-05-19T07:22:40.936418Z",
     "shell.execute_reply": "2021-05-19T07:22:40.935868Z"
    },
    "papermill": {
     "duration": 0.030827,
     "end_time": "2021-05-19T07:22:40.936569",
     "exception": false,
     "start_time": "2021-05-19T07:22:40.905742",
     "status": "completed"
    },
    "tags": []
   },
   "outputs": [
    {
     "data": {
      "text/html": [
       "<div>\n",
       "<style scoped>\n",
       "    .dataframe tbody tr th:only-of-type {\n",
       "        vertical-align: middle;\n",
       "    }\n",
       "\n",
       "    .dataframe tbody tr th {\n",
       "        vertical-align: top;\n",
       "    }\n",
       "\n",
       "    .dataframe thead th {\n",
       "        text-align: right;\n",
       "    }\n",
       "</style>\n",
       "<table border=\"1\" class=\"dataframe\">\n",
       "  <thead>\n",
       "    <tr style=\"text-align: right;\">\n",
       "      <th>sex</th>\n",
       "      <th>F</th>\n",
       "      <th>M</th>\n",
       "    </tr>\n",
       "    <tr>\n",
       "      <th>year</th>\n",
       "      <th></th>\n",
       "      <th></th>\n",
       "    </tr>\n",
       "  </thead>\n",
       "  <tbody>\n",
       "    <tr>\n",
       "      <th>1880</th>\n",
       "      <td>90994</td>\n",
       "      <td>110490</td>\n",
       "    </tr>\n",
       "    <tr>\n",
       "      <th>1881</th>\n",
       "      <td>91953</td>\n",
       "      <td>100743</td>\n",
       "    </tr>\n",
       "    <tr>\n",
       "      <th>1882</th>\n",
       "      <td>107847</td>\n",
       "      <td>113686</td>\n",
       "    </tr>\n",
       "    <tr>\n",
       "      <th>1883</th>\n",
       "      <td>112319</td>\n",
       "      <td>104625</td>\n",
       "    </tr>\n",
       "    <tr>\n",
       "      <th>1884</th>\n",
       "      <td>129019</td>\n",
       "      <td>114442</td>\n",
       "    </tr>\n",
       "  </tbody>\n",
       "</table>\n",
       "</div>"
      ],
      "text/plain": [
       "sex        F       M\n",
       "year                \n",
       "1880   90994  110490\n",
       "1881   91953  100743\n",
       "1882  107847  113686\n",
       "1883  112319  104625\n",
       "1884  129019  114442"
      ]
     },
     "execution_count": 7,
     "metadata": {},
     "output_type": "execute_result"
    }
   ],
   "source": [
    "total_birth.head()"
   ]
  },
  {
   "cell_type": "markdown",
   "id": "ethical-accommodation",
   "metadata": {
    "papermill": {
     "duration": 0.018429,
     "end_time": "2021-05-19T07:22:40.973352",
     "exception": false,
     "start_time": "2021-05-19T07:22:40.954923",
     "status": "completed"
    },
    "tags": []
   },
   "source": [
    "Plot'Total Birth by sex and year'"
   ]
  },
  {
   "cell_type": "code",
   "execution_count": 8,
   "id": "dimensional-auckland",
   "metadata": {
    "execution": {
     "iopub.execute_input": "2021-05-19T07:22:41.014548Z",
     "iopub.status.busy": "2021-05-19T07:22:41.013924Z",
     "iopub.status.idle": "2021-05-19T07:22:41.361932Z",
     "shell.execute_reply": "2021-05-19T07:22:41.361405Z"
    },
    "papermill": {
     "duration": 0.369503,
     "end_time": "2021-05-19T07:22:41.362076",
     "exception": false,
     "start_time": "2021-05-19T07:22:40.992573",
     "status": "completed"
    },
    "tags": []
   },
   "outputs": [
    {
     "data": {
      "text/plain": [
       "<AxesSubplot:title={'center':'Total Birth by sex and year'}, xlabel='year'>"
      ]
     },
     "execution_count": 8,
     "metadata": {},
     "output_type": "execute_result"
    },
    {
     "data": {
      "image/png": "[encoded data removed]",
      "text/plain": [
       "<Figure size 432x288 with 1 Axes>"
      ]
     },
     "metadata": {
      "needs_background": "light"
     },
     "output_type": "display_data"
    }
   ],
   "source": [
    "total_birth.plot(title='Total Birth by sex and year')"
   ]
  },
  {
   "cell_type": "markdown",
   "id": "municipal-progressive",
   "metadata": {
    "papermill": {
     "duration": 0.019821,
     "end_time": "2021-05-19T07:22:41.402519",
     "exception": false,
     "start_time": "2021-05-19T07:22:41.382698",
     "status": "completed"
    },
    "tags": []
   },
   "source": [
    "display a table to print percentage of baby name in each year"
   ]
  },
  {
   "cell_type": "code",
   "execution_count": 9,
   "id": "delayed-playback",
   "metadata": {
    "execution": {
     "iopub.execute_input": "2021-05-19T07:22:41.449095Z",
     "iopub.status.busy": "2021-05-19T07:22:41.448448Z",
     "iopub.status.idle": "2021-05-19T07:22:42.909268Z",
     "shell.execute_reply": "2021-05-19T07:22:42.908654Z"
    },
    "papermill": {
     "duration": 1.486439,
     "end_time": "2021-05-19T07:22:42.909411",
     "exception": false,
     "start_time": "2021-05-19T07:22:41.422972",
     "status": "completed"
    },
    "tags": []
   },
   "outputs": [
    {
     "data": {
      "text/html": [
       "<div>\n",
       "<style scoped>\n",
       "    .dataframe tbody tr th:only-of-type {\n",
       "        vertical-align: middle;\n",
       "    }\n",
       "\n",
       "    .dataframe tbody tr th {\n",
       "        vertical-align: top;\n",
       "    }\n",
       "\n",
       "    .dataframe thead th {\n",
       "        text-align: right;\n",
       "    }\n",
       "</style>\n",
       "<table border=\"1\" class=\"dataframe\">\n",
       "  <thead>\n",
       "    <tr style=\"text-align: right;\">\n",
       "      <th></th>\n",
       "      <th>name</th>\n",
       "      <th>sex</th>\n",
       "      <th>birth</th>\n",
       "      <th>year</th>\n",
       "      <th>popular_name</th>\n",
       "    </tr>\n",
       "  </thead>\n",
       "  <tbody>\n",
       "    <tr>\n",
       "      <th>0</th>\n",
       "      <td>Mary</td>\n",
       "      <td>F</td>\n",
       "      <td>7065</td>\n",
       "      <td>1880</td>\n",
       "      <td>7.764248</td>\n",
       "    </tr>\n",
       "    <tr>\n",
       "      <th>1</th>\n",
       "      <td>Anna</td>\n",
       "      <td>F</td>\n",
       "      <td>2604</td>\n",
       "      <td>1880</td>\n",
       "      <td>2.861727</td>\n",
       "    </tr>\n",
       "    <tr>\n",
       "      <th>2</th>\n",
       "      <td>Emma</td>\n",
       "      <td>F</td>\n",
       "      <td>2003</td>\n",
       "      <td>1880</td>\n",
       "      <td>2.201244</td>\n",
       "    </tr>\n",
       "    <tr>\n",
       "      <th>3</th>\n",
       "      <td>Elizabeth</td>\n",
       "      <td>F</td>\n",
       "      <td>1939</td>\n",
       "      <td>1880</td>\n",
       "      <td>2.130910</td>\n",
       "    </tr>\n",
       "    <tr>\n",
       "      <th>4</th>\n",
       "      <td>Minnie</td>\n",
       "      <td>F</td>\n",
       "      <td>1746</td>\n",
       "      <td>1880</td>\n",
       "      <td>1.918808</td>\n",
       "    </tr>\n",
       "    <tr>\n",
       "      <th>...</th>\n",
       "      <td>...</td>\n",
       "      <td>...</td>\n",
       "      <td>...</td>\n",
       "      <td>...</td>\n",
       "      <td>...</td>\n",
       "    </tr>\n",
       "    <tr>\n",
       "      <th>1957442</th>\n",
       "      <td>Zylas</td>\n",
       "      <td>M</td>\n",
       "      <td>5</td>\n",
       "      <td>2018</td>\n",
       "      <td>0.000276</td>\n",
       "    </tr>\n",
       "    <tr>\n",
       "      <th>1957443</th>\n",
       "      <td>Zyran</td>\n",
       "      <td>M</td>\n",
       "      <td>5</td>\n",
       "      <td>2018</td>\n",
       "      <td>0.000276</td>\n",
       "    </tr>\n",
       "    <tr>\n",
       "      <th>1957444</th>\n",
       "      <td>Zyrie</td>\n",
       "      <td>M</td>\n",
       "      <td>5</td>\n",
       "      <td>2018</td>\n",
       "      <td>0.000276</td>\n",
       "    </tr>\n",
       "    <tr>\n",
       "      <th>1957445</th>\n",
       "      <td>Zyron</td>\n",
       "      <td>M</td>\n",
       "      <td>5</td>\n",
       "      <td>2018</td>\n",
       "      <td>0.000276</td>\n",
       "    </tr>\n",
       "    <tr>\n",
       "      <th>1957446</th>\n",
       "      <td>Zzyzx</td>\n",
       "      <td>M</td>\n",
       "      <td>5</td>\n",
       "      <td>2018</td>\n",
       "      <td>0.000276</td>\n",
       "    </tr>\n",
       "  </tbody>\n",
       "</table>\n",
       "<p>1957447 rows × 5 columns</p>\n",
       "</div>"
      ],
      "text/plain": [
       "              name sex  birth  year  popular_name\n",
       "0             Mary   F   7065  1880      7.764248\n",
       "1             Anna   F   2604  1880      2.861727\n",
       "2             Emma   F   2003  1880      2.201244\n",
       "3        Elizabeth   F   1939  1880      2.130910\n",
       "4           Minnie   F   1746  1880      1.918808\n",
       "...            ...  ..    ...   ...           ...\n",
       "1957442      Zylas   M      5  2018      0.000276\n",
       "1957443      Zyran   M      5  2018      0.000276\n",
       "1957444      Zyrie   M      5  2018      0.000276\n",
       "1957445      Zyron   M      5  2018      0.000276\n",
       "1957446      Zzyzx   M      5  2018      0.000276\n",
       "\n",
       "[1957447 rows x 5 columns]"
      ]
     },
     "execution_count": 9,
     "metadata": {},
     "output_type": "execute_result"
    }
   ],
   "source": [
    "def add_pname(popular_name):\n",
    "    popular_name['popular_name']=((popular_name.birth/popular_name.birth.sum())*100)\n",
    "    return popular_name\n",
    "\n",
    "name=name.groupby(['year','sex']).apply(add_pname)\n",
    "name\n",
    "    "
   ]
  },
  {
   "cell_type": "code",
   "execution_count": 10,
   "id": "right-cutting",
   "metadata": {
    "execution": {
     "iopub.execute_input": "2021-05-19T07:22:42.985053Z",
     "iopub.status.busy": "2021-05-19T07:22:42.984387Z",
     "iopub.status.idle": "2021-05-19T07:23:06.433976Z",
     "shell.execute_reply": "2021-05-19T07:23:06.433301Z"
    },
    "papermill": {
     "duration": 23.503743,
     "end_time": "2021-05-19T07:23:06.434135",
     "exception": false,
     "start_time": "2021-05-19T07:22:42.930392",
     "status": "completed"
    },
    "tags": []
   },
   "outputs": [],
   "source": [
    "def top_name(popular_name):\n",
    "    return popular_name.sort_values(by='birth',ascending=False)[:10]\n",
    "p_name=name.groupby(['sex','birth'])\n",
    "top_100=p_name.apply(top_name)\n",
    "top_100.reset_index(inplace=True,drop=True)"
   ]
  },
  {
   "cell_type": "markdown",
   "id": "signed-waterproof",
   "metadata": {
    "papermill": {
     "duration": 0.0209,
     "end_time": "2021-05-19T07:23:06.476510",
     "exception": false,
     "start_time": "2021-05-19T07:23:06.455610",
     "status": "completed"
    },
    "tags": []
   },
   "source": [
    "Analysing naming trends"
   ]
  },
  {
   "cell_type": "code",
   "execution_count": 11,
   "id": "quiet-integer",
   "metadata": {
    "execution": {
     "iopub.execute_input": "2021-05-19T07:23:06.532901Z",
     "iopub.status.busy": "2021-05-19T07:23:06.532227Z",
     "iopub.status.idle": "2021-05-19T07:23:06.644855Z",
     "shell.execute_reply": "2021-05-19T07:23:06.644238Z"
    },
    "papermill": {
     "duration": 0.14734,
     "end_time": "2021-05-19T07:23:06.645012",
     "exception": false,
     "start_time": "2021-05-19T07:23:06.497672",
     "status": "completed"
    },
    "tags": []
   },
   "outputs": [],
   "source": [
    "boy_name = top_100[top_100.sex == 'M']\n",
    "girl_name = top_100[top_100.sex == 'F']\n",
    "total_birth = top_100.pivot_table('birth', index = 'year', columns = 'name', aggfunc = sum)\n"
   ]
  },
  {
   "cell_type": "code",
   "execution_count": 12,
   "id": "understanding-blowing",
   "metadata": {
    "execution": {
     "iopub.execute_input": "2021-05-19T07:23:06.698051Z",
     "iopub.status.busy": "2021-05-19T07:23:06.697164Z",
     "iopub.status.idle": "2021-05-19T07:23:06.701571Z",
     "shell.execute_reply": "2021-05-19T07:23:06.700964Z"
    },
    "papermill": {
     "duration": 0.035824,
     "end_time": "2021-05-19T07:23:06.701704",
     "exception": false,
     "start_time": "2021-05-19T07:23:06.665880",
     "status": "completed"
    },
    "tags": []
   },
   "outputs": [
    {
     "data": {
      "text/html": [
       "<div>\n",
       "<style scoped>\n",
       "    .dataframe tbody tr th:only-of-type {\n",
       "        vertical-align: middle;\n",
       "    }\n",
       "\n",
       "    .dataframe tbody tr th {\n",
       "        vertical-align: top;\n",
       "    }\n",
       "\n",
       "    .dataframe thead th {\n",
       "        text-align: right;\n",
       "    }\n",
       "</style>\n",
       "<table border=\"1\" class=\"dataframe\">\n",
       "  <thead>\n",
       "    <tr style=\"text-align: right;\">\n",
       "      <th></th>\n",
       "      <th>name</th>\n",
       "      <th>sex</th>\n",
       "      <th>birth</th>\n",
       "      <th>year</th>\n",
       "      <th>popular_name</th>\n",
       "    </tr>\n",
       "  </thead>\n",
       "  <tbody>\n",
       "    <tr>\n",
       "      <th>35156</th>\n",
       "      <td>Ab</td>\n",
       "      <td>M</td>\n",
       "      <td>5</td>\n",
       "      <td>1880</td>\n",
       "      <td>0.004525</td>\n",
       "    </tr>\n",
       "    <tr>\n",
       "      <th>35157</th>\n",
       "      <td>Gabin</td>\n",
       "      <td>M</td>\n",
       "      <td>5</td>\n",
       "      <td>2000</td>\n",
       "      <td>0.000255</td>\n",
       "    </tr>\n",
       "    <tr>\n",
       "      <th>35158</th>\n",
       "      <td>Franko</td>\n",
       "      <td>M</td>\n",
       "      <td>5</td>\n",
       "      <td>2000</td>\n",
       "      <td>0.000255</td>\n",
       "    </tr>\n",
       "    <tr>\n",
       "      <th>35159</th>\n",
       "      <td>Frandy</td>\n",
       "      <td>M</td>\n",
       "      <td>5</td>\n",
       "      <td>2000</td>\n",
       "      <td>0.000255</td>\n",
       "    </tr>\n",
       "    <tr>\n",
       "      <th>35160</th>\n",
       "      <td>Franchesco</td>\n",
       "      <td>M</td>\n",
       "      <td>5</td>\n",
       "      <td>2000</td>\n",
       "      <td>0.000255</td>\n",
       "    </tr>\n",
       "  </tbody>\n",
       "</table>\n",
       "</div>"
      ],
      "text/plain": [
       "             name sex  birth  year  popular_name\n",
       "35156          Ab   M      5  1880      0.004525\n",
       "35157       Gabin   M      5  2000      0.000255\n",
       "35158      Franko   M      5  2000      0.000255\n",
       "35159      Frandy   M      5  2000      0.000255\n",
       "35160  Franchesco   M      5  2000      0.000255"
      ]
     },
     "execution_count": 12,
     "metadata": {},
     "output_type": "execute_result"
    }
   ],
   "source": [
    "boy_name .head()"
   ]
  },
  {
   "cell_type": "code",
   "execution_count": 13,
   "id": "under-stability",
   "metadata": {
    "execution": {
     "iopub.execute_input": "2021-05-19T07:23:06.754610Z",
     "iopub.status.busy": "2021-05-19T07:23:06.753932Z",
     "iopub.status.idle": "2021-05-19T07:23:06.758304Z",
     "shell.execute_reply": "2021-05-19T07:23:06.757761Z"
    },
    "papermill": {
     "duration": 0.035725,
     "end_time": "2021-05-19T07:23:06.758454",
     "exception": false,
     "start_time": "2021-05-19T07:23:06.722729",
     "status": "completed"
    },
    "tags": []
   },
   "outputs": [
    {
     "data": {
      "text/html": [
       "<div>\n",
       "<style scoped>\n",
       "    .dataframe tbody tr th:only-of-type {\n",
       "        vertical-align: middle;\n",
       "    }\n",
       "\n",
       "    .dataframe tbody tr th {\n",
       "        vertical-align: top;\n",
       "    }\n",
       "\n",
       "    .dataframe thead th {\n",
       "        text-align: right;\n",
       "    }\n",
       "</style>\n",
       "<table border=\"1\" class=\"dataframe\">\n",
       "  <thead>\n",
       "    <tr style=\"text-align: right;\">\n",
       "      <th></th>\n",
       "      <th>name</th>\n",
       "      <th>sex</th>\n",
       "      <th>birth</th>\n",
       "      <th>year</th>\n",
       "      <th>popular_name</th>\n",
       "    </tr>\n",
       "  </thead>\n",
       "  <tbody>\n",
       "    <tr>\n",
       "      <th>0</th>\n",
       "      <td>Adelle</td>\n",
       "      <td>F</td>\n",
       "      <td>5</td>\n",
       "      <td>1880</td>\n",
       "      <td>0.005495</td>\n",
       "    </tr>\n",
       "    <tr>\n",
       "      <th>1</th>\n",
       "      <td>Tristynn</td>\n",
       "      <td>F</td>\n",
       "      <td>5</td>\n",
       "      <td>1998</td>\n",
       "      <td>0.000283</td>\n",
       "    </tr>\n",
       "    <tr>\n",
       "      <th>2</th>\n",
       "      <td>Toshia</td>\n",
       "      <td>F</td>\n",
       "      <td>5</td>\n",
       "      <td>1998</td>\n",
       "      <td>0.000283</td>\n",
       "    </tr>\n",
       "    <tr>\n",
       "      <th>3</th>\n",
       "      <td>Trana</td>\n",
       "      <td>F</td>\n",
       "      <td>5</td>\n",
       "      <td>1998</td>\n",
       "      <td>0.000283</td>\n",
       "    </tr>\n",
       "    <tr>\n",
       "      <th>4</th>\n",
       "      <td>Trayana</td>\n",
       "      <td>F</td>\n",
       "      <td>5</td>\n",
       "      <td>1998</td>\n",
       "      <td>0.000283</td>\n",
       "    </tr>\n",
       "  </tbody>\n",
       "</table>\n",
       "</div>"
      ],
      "text/plain": [
       "       name sex  birth  year  popular_name\n",
       "0    Adelle   F      5  1880      0.005495\n",
       "1  Tristynn   F      5  1998      0.000283\n",
       "2    Toshia   F      5  1998      0.000283\n",
       "3     Trana   F      5  1998      0.000283\n",
       "4   Trayana   F      5  1998      0.000283"
      ]
     },
     "execution_count": 13,
     "metadata": {},
     "output_type": "execute_result"
    }
   ],
   "source": [
    "girl_name.head()"
   ]
  },
  {
   "cell_type": "markdown",
   "id": "written-evidence",
   "metadata": {
    "papermill": {
     "duration": 0.021454,
     "end_time": "2021-05-19T07:23:06.803903",
     "exception": false,
     "start_time": "2021-05-19T07:23:06.782449",
     "status": "completed"
    },
    "tags": []
   },
   "source": [
    "If you enjoyed reading the kernel , hit the upvote button ! Please leave the feedback or suggestions below.\n",
    "Happy learning!!!"
   ]
  }
 ],
 "metadata": {
  "kernelspec": {
   "display_name": "Python 3",
   "language": "python",
   "name": "python3"
  },
  "language_info": {
   "codemirror_mode": {
    "name": "ipython",
    "version": 3
   },
   "file_extension": ".py",
   "mimetype": "text/x-python",
   "name": "python",
   "nbconvert_exporter": "python",
   "pygments_lexer": "ipython3",
   "version": "3.7.10"
  },
  "papermill": {
   "default_parameters": {},
   "duration": 39.43037,
   "end_time": "2021-05-19T07:23:07.635134",
   "environment_variables": {},
   "exception": null,
   "input_path": "__notebook__.ipynb",
   "output_path": "__notebook__.ipynb",
   "parameters": {},
   "start_time": "2021-05-19T07:22:28.204764",
   "version": "2.3.3"
  }
 },
 "nbformat": 4,
 "nbformat_minor": 5
}
